{
 "cells": [
  {
   "cell_type": "markdown",
   "metadata": {},
   "source": [
    "# 스타벅스"
   ]
  },
  {
   "cell_type": "code",
   "execution_count": null,
   "metadata": {},
   "outputs": [],
   "source": [
    "import selenium\n",
    "import pandas as pd\n",
    "import time\n",
    "import folium\n",
    "import matplotlib.pyplot as plt\n",
    "import seaborn as sns\n",
    "import koreanize_matplotlib\n",
    "import requests\n",
    "import pandas as pd\n",
    "\n",
    "from tqdm import tqdm\n",
    "from bs4 import BeautifulSoup\n",
    "from selenium import webdriver\n",
    "from selenium.webdriver.chrome.service import Service\n",
    "from selenium.webdriver.common.by import By\n",
    "from selenium.webdriver.common.by import By\n",
    "from selenium.webdriver.common.keys import Keys"
   ]
  },
  {
   "cell_type": "code",
   "execution_count": null,
   "metadata": {},
   "outputs": [],
   "source": [
    "driver = webdriver.Chrome(service=Service(\"../driver/chromedriver-linux64/chromedriver\"))\n",
    "url = \"https://www.starbucks.co.kr/store/store_map.do?disp=locale\"\n",
    "driver.get(url)"
   ]
  },
  {
   "cell_type": "code",
   "execution_count": null,
   "metadata": {},
   "outputs": [],
   "source": [
    "doc_link = driver.find_element(By.XPATH, '''//*[@id=\"container\"]/div/form/fieldset/div/section/article[1]/article/header[2]''')\n",
    "doc_link.click()"
   ]
  },
  {
   "cell_type": "code",
   "execution_count": null,
   "metadata": {},
   "outputs": [],
   "source": [
    "doc_link = driver.find_element(By.XPATH, '''//*[@id=\"container\"]/div/form/fieldset/div/section/article[1]/article/article[2]/div[1]/div[2]/ul/li[1]/a''')\n",
    "doc_link.click()"
   ]
  },
  {
   "cell_type": "code",
   "execution_count": null,
   "metadata": {},
   "outputs": [],
   "source": [
    "time.sleep(0.5)\n",
    "doc_link = driver.find_element(By.XPATH, '''//*[@id=\"mCSB_2_container\"]/ul/li[1]/a''')\n",
    "doc_link.click()"
   ]
  },
  {
   "cell_type": "markdown",
   "metadata": {},
   "source": [
    "#### 서울시에 있는 스타벅스 지점 데이터 가져오기"
   ]
  },
  {
   "cell_type": "code",
   "execution_count": null,
   "metadata": {},
   "outputs": [],
   "source": [
    "html = driver.page_source\n",
    "soup = BeautifulSoup(html, \"html.parser\")"
   ]
  },
  {
   "cell_type": "code",
   "execution_count": null,
   "metadata": {},
   "outputs": [],
   "source": [
    "starbucks = soup.find_all(class_=\"quickResultLstCon\")\n",
    "starbucks_name = [Name.attrs[\"data-name\"] for Name in starbucks]\n",
    "starbucks_name"
   ]
  },
  {
   "cell_type": "code",
   "execution_count": null,
   "metadata": {},
   "outputs": [],
   "source": [
    "starbucks = soup.find_all(class_=\"quickResultLstCon\")\n",
    "starbucks_address = [address.find(class_=\"result_details\").text for address in starbucks]\n",
    "starbucks_address"
   ]
  },
  {
   "cell_type": "code",
   "execution_count": null,
   "metadata": {},
   "outputs": [],
   "source": [
    "starbucks_lat = [Lat.attrs[\"data-lat\"] for Lat in starbucks]\n",
    "starbucks_lat"
   ]
  },
  {
   "cell_type": "code",
   "execution_count": null,
   "metadata": {},
   "outputs": [],
   "source": [
    "starbucks_long = [Long.attrs[\"data-long\"] for Long in starbucks]\n",
    "starbucks_long"
   ]
  },
  {
   "cell_type": "code",
   "execution_count": null,
   "metadata": {},
   "outputs": [],
   "source": [
    "driver.close()"
   ]
  },
  {
   "cell_type": "code",
   "execution_count": null,
   "metadata": {},
   "outputs": [],
   "source": [
    "print(\"Names length:\", len(starbucks_name))\n",
    "print(\"Addresses length:\", len(starbucks_address))\n",
    "print(\"Latitudes length:\", len(starbucks_lat))\n",
    "print(\"Longitudes length:\", len(starbucks_long))"
   ]
  },
  {
   "cell_type": "code",
   "execution_count": null,
   "metadata": {},
   "outputs": [],
   "source": [
    "starbucks_df = pd.DataFrame({\n",
    "    'Name': starbucks_name,\n",
    "    'Address': starbucks_address,\n",
    "    'Lat': starbucks_lat,\n",
    "    'Long':starbucks_long\n",
    "})\n",
    "\n",
    "starbucks_df.to_csv('../data/starbucks.csv', index=False)\n",
    "\n",
    "starbucks_df"
   ]
  },
  {
   "cell_type": "code",
   "execution_count": null,
   "metadata": {},
   "outputs": [],
   "source": [
    "starbucks_df['Brand'] = '스타벅스'\n",
    "\n",
    "starbucks_df.to_csv('../data/starbucks.csv', index=False)\n",
    "\n",
    "starbucks_df"
   ]
  },
  {
   "cell_type": "markdown",
   "metadata": {},
   "source": [
    "# 이디야"
   ]
  },
  {
   "cell_type": "code",
   "execution_count": null,
   "metadata": {},
   "outputs": [],
   "source": [
    "driver = webdriver.Chrome(service=Service(\"../driver/chromedriver-linux64/chromedriver\"))\n",
    "url = \"https://ediya.com/contents/find_store.html\"\n",
    "driver.get(url)"
   ]
  },
  {
   "cell_type": "code",
   "execution_count": null,
   "metadata": {},
   "outputs": [],
   "source": [
    "doc_link = driver.find_element(By.XPATH, '''//*[@id=\"contentWrap\"]/div[3]/div/div[1]/ul/li[2]/a''')\n",
    "doc_link.click()"
   ]
  },
  {
   "cell_type": "code",
   "execution_count": null,
   "metadata": {},
   "outputs": [],
   "source": [
    "search_doc = driver.find_element(By.XPATH, '''//*[@id=\"keyword\"]''')\n",
    "doc_link.click()"
   ]
  },
  {
   "cell_type": "markdown",
   "metadata": {},
   "source": [
    "#### 서울시의 이디야 데이터 가져오기"
   ]
  },
  {
   "cell_type": "code",
   "execution_count": null,
   "metadata": {},
   "outputs": [],
   "source": [
    "html = driver.page_source\n",
    "soup = BeautifulSoup(html, \"html.parser\")"
   ]
  },
  {
   "cell_type": "code",
   "execution_count": null,
   "metadata": {},
   "outputs": [],
   "source": [
    "seoul_districts = ['서울 강남구', '서울 영등포구', '서울 마포구', '서울 강동구', '서울 강북구', '서울 강서구', '서울 관악구', '서울 광진구', '서울 구로구', '서울 금천구', '서울 노원구', '서울 도봉구', '서울 동대문구', '서울 동작구', '서울 서대문구', '서울 서초구', '서울 성동구', '서울 성북구', '서울 송파구', '서울 양천구', '서울 은평구', '서울 종로구', '서울 중랑구', '서울 중구', '서울 용산구']"
   ]
  },
  {
   "cell_type": "code",
   "execution_count": null,
   "metadata": {},
   "outputs": [],
   "source": [
    "ediya_list = []\n",
    "\n",
    "for district in tqdm(seoul_districts, desc=\"서울시의 이디야 탐색 중\"):\n",
    "    search_doc = driver.find_element(By.XPATH, '''//*[@id=\"keyword\"]''')\n",
    "    search_doc.click()\n",
    "    search_doc.clear()\n",
    "    search_doc.send_keys(district)\n",
    "    doc_link = driver.find_element(By.XPATH, '''//*[@id=\"keyword_div\"]/form/button''')\n",
    "    doc_link.click()\n",
    "    time.sleep(0.5)  \n",
    "    \n",
    "    ediya_list_element = driver.find_element(By.ID, \"placesList\")\n",
    "    addresses = ediya_list_element.find_elements(By.TAG_NAME, \"li\")\n",
    "    \n",
    "    for address in addresses:\n",
    "        ediya_list.append((district, address.text))\n",
    "\n",
    "driver.quit()\n",
    "\n",
    "\n",
    "ediya_df = pd.DataFrame(ediya_list, columns=['District', 'Address'])\n",
    "ediya_df['Brand'] = '이디야'\n",
    "print(ediya_df)\n",
    "\n",
    "ediya_df.to_csv('../data/ediya_locations.csv', index=False)"
   ]
  },
  {
   "cell_type": "code",
   "execution_count": null,
   "metadata": {},
   "outputs": [],
   "source": [
    "ediya_df"
   ]
  },
  {
   "cell_type": "code",
   "execution_count": null,
   "metadata": {},
   "outputs": [],
   "source": [
    "ediya_df[\"Name\"] = ediya_df[\"Address\"].str.split('\\n').str.get(0)\n",
    "ediya_df"
   ]
  },
  {
   "cell_type": "code",
   "execution_count": null,
   "metadata": {},
   "outputs": [],
   "source": [
    "ediya_df[\"Address\"] = ediya_df[\"Address\"].apply(lambda x: '\\n'.join(x.split('\\n')[1:]))\n",
    "ediya_df"
   ]
  },
  {
   "cell_type": "code",
   "execution_count": null,
   "metadata": {},
   "outputs": [],
   "source": [
    "ediya_df = ediya_df.drop('District', axis=1)\n",
    "ediya_df"
   ]
  },
  {
   "cell_type": "code",
   "execution_count": null,
   "metadata": {},
   "outputs": [],
   "source": [
    "new_order = ['Name', 'Address', 'Brand']\n",
    "\n",
    "ediya_df = ediya_df[new_order]\n",
    "\n",
    "ediya_df"
   ]
  },
  {
   "cell_type": "markdown",
   "metadata": {},
   "source": [
    "##### 위도, 경도가 결측치인 데이터 수정"
   ]
  },
  {
   "cell_type": "code",
   "execution_count": null,
   "metadata": {},
   "outputs": [],
   "source": [
    "ediya_df.loc[ediya_df['Address'] == '서울 영등포구 영등포로35길 19 (영등포동6가)', 'Address'] = '서울 영등포구 영등포로35가길 1'\n",
    "\n",
    "ediya_df.loc[ediya_df['Address'] == '서울 마포구 백범로 100 (대흥동)', 'Address'] = '서울특별시 마포구 대흥동 263-1'\n",
    "\n",
    "\n",
    "ediya_df.loc[ediya_df['Address'] == '서울 강북구 도봉로 207 -3(미아동)', 'Address'] = '서울특별시 강북구 미아동 207-3'\n",
    "\n",
    "\n",
    "ediya_df.loc[ediya_df['Address'] == '서울 노원구 한글비석로 409 (상계동) 1~2층', 'Address'] = '서울 노원구 한글비석로 409'\n",
    "\n",
    "ediya_df.loc[ediya_df['Address'] == '서울 동작구 사당로16가길 96 (사당동) 1,2층', 'Address'] = '서울특별시 동작구 사당동 224-13'\n",
    "\n",
    "ediya_df.loc[ediya_df['Address'] == '서울 은평구 서오릉로 195 (구산동)', 'Address'] = '서울특별시 은평구 구산동 200-1'"
   ]
  },
  {
   "cell_type": "code",
   "execution_count": null,
   "metadata": {},
   "outputs": [],
   "source": [
    "indexes_to_drop = ediya_df[ediya_df['Address'] == '서울 영등포구 영등포로35가길 1'].index\n",
    "\n",
    "ediya_df = ediya_df.drop(indexes_to_drop)"
   ]
  },
  {
   "cell_type": "code",
   "execution_count": null,
   "metadata": {},
   "outputs": [],
   "source": [
    "indexes_to_drop = ediya_df[ediya_df['Address'] == '서울특별시 마포구 대흥동 263-1'].index\n",
    "\n",
    "ediya_df = ediya_df.drop(indexes_to_drop)\n"
   ]
  },
  {
   "cell_type": "code",
   "execution_count": null,
   "metadata": {},
   "outputs": [],
   "source": [
    "indexes_to_drop = ediya_df[ediya_df['Address'] == '서울특별시 강북구 미아동 207-3'].index\n",
    "\n",
    "ediya_df = ediya_df.drop(indexes_to_drop)\n"
   ]
  },
  {
   "cell_type": "code",
   "execution_count": null,
   "metadata": {},
   "outputs": [],
   "source": [
    "indexes_to_drop = ediya_df[ediya_df['Address'] == '서울 노원구 한글비석로 409'].index\n",
    "\n",
    "ediya_df = ediya_df.drop(indexes_to_drop)\n"
   ]
  },
  {
   "cell_type": "code",
   "execution_count": null,
   "metadata": {},
   "outputs": [],
   "source": [
    "indexes_to_drop = ediya_df[ediya_df['Address'] == '서울특별시 동작구 사당동 224-13'].index\n",
    "\n",
    "ediya_df = ediya_df.drop(indexes_to_drop)\n"
   ]
  },
  {
   "cell_type": "code",
   "execution_count": null,
   "metadata": {},
   "outputs": [],
   "source": [
    "indexes_to_drop = ediya_df[ediya_df['Address'] == '서울특별시 은평구 구산동 200-1'].index\n",
    "\n",
    "ediya_df = ediya_df.drop(indexes_to_drop)\n"
   ]
  },
  {
   "cell_type": "markdown",
   "metadata": {},
   "source": [
    "##### 카카오맵을 이용하여 이디야 위도, 경도 정보 가져오기"
   ]
  },
  {
   "cell_type": "code",
   "execution_count": null,
   "metadata": {},
   "outputs": [],
   "source": [
    "KAKAO_API_KEY = ''\n",
    "\n",
    "latitudes = []\n",
    "longitudes = []\n",
    "\n",
    "headers = {\"Authorization\": f\"KakaoAK {KAKAO_API_KEY}\"}\n",
    "\n",
    "for address in ediya_df['Address']:\n",
    "    url = f'https://dapi.kakao.com/v2/local/search/address.json?query={address}'\n",
    "    response = requests.get(url, headers=headers)\n",
    "    address_info = response.json()\n",
    "    \n",
    "    if address_info['documents']:\n",
    "        latitude = address_info['documents'][0]['y']  \n",
    "        longitude = address_info['documents'][0]['x'] \n",
    "    else:\n",
    "        latitude = None\n",
    "        longitude = None\n",
    "    \n",
    "    latitudes.append(latitude)\n",
    "    longitudes.append(longitude)\n",
    "\n",
    "\n",
    "ediya_df['Lat'] = latitudes\n",
    "ediya_df['Long'] = longitudes\n",
    "\n",
    "ediya_df\n"
   ]
  },
  {
   "cell_type": "code",
   "execution_count": null,
   "metadata": {},
   "outputs": [],
   "source": [
    "ediya_df = ediya_df[['Name', 'Address', 'Lat', 'Long', 'Brand']]\n",
    "ediya_df"
   ]
  },
  {
   "cell_type": "markdown",
   "metadata": {},
   "source": [
    "##### 스타벅스, 이디야 데이터 합치기"
   ]
  },
  {
   "cell_type": "code",
   "execution_count": null,
   "metadata": {},
   "outputs": [],
   "source": [
    "cafe_df = pd.concat([ediya_df, starbucks_df], ignore_index=True)\n",
    "cafe_df.to_csv('../data/cafe.csv')\n",
    "cafe_df"
   ]
  },
  {
   "cell_type": "markdown",
   "metadata": {},
   "source": [
    "##### 위도 또는 경도가 결측인 데이터 확인"
   ]
  },
  {
   "cell_type": "code",
   "execution_count": null,
   "metadata": {},
   "outputs": [],
   "source": [
    "missing_data = cafe_df[cafe_df['Lat'].isnull() | cafe_df['Long'].isnull()]\n",
    "print(missing_data)"
   ]
  },
  {
   "cell_type": "code",
   "execution_count": null,
   "metadata": {},
   "outputs": [],
   "source": [
    "folium_map = folium.Map(location=[37.5665, 126.9780], zoom_start=12) \n",
    "\n",
    "for index, row in cafe_df.iterrows():\n",
    "    if pd.notnull(row['Lat']) and pd.notnull(row['Long']):\n",
    "       \n",
    "        color = 'green' if row['Brand'].lower() == '스타벅스' else 'blue'\n",
    "       \n",
    "        folium.Marker(\n",
    "            location=[row['Lat'], row['Long']],\n",
    "            popup=row['Name'],\n",
    "            icon=folium.Icon(color=color)\n",
    "        ).add_to(folium_map)\n",
    "\n",
    "folium_map\n"
   ]
  },
  {
   "cell_type": "code",
   "execution_count": null,
   "metadata": {},
   "outputs": [],
   "source": [
    "cafe_df"
   ]
  },
  {
   "cell_type": "code",
   "execution_count": null,
   "metadata": {},
   "outputs": [],
   "source": [
    "cafe_df['gu'] = [x.split(' ')[1] if len(x.split(' ')) > 1 else '기본값' for x in cafe_df['Address']]\n",
    "cafe_df"
   ]
  },
  {
   "cell_type": "code",
   "execution_count": null,
   "metadata": {},
   "outputs": [],
   "source": [
    "plt.figure(figsize=(12,8))\n",
    "cafe_counts = cafe_df['gu'].value_counts()\n",
    "cafe_counts.plot(kind='bar')\n",
    "plt.title('지역별 카페 수')\n",
    "plt.xlabel('지역')\n",
    "plt.ylabel('카페 수')\n",
    "plt.show()"
   ]
  },
  {
   "cell_type": "code",
   "execution_count": null,
   "metadata": {},
   "outputs": [],
   "source": [
    "cafe_grouped = cafe_df.groupby(['gu', 'Brand']).size().unstack(fill_value=0)\n",
    "\n",
    "cafe_grouped.plot(kind='bar', stacked=False) \n",
    "plt.title('지역별 카페 브랜드 분포')\n",
    "plt.xlabel('지역')\n",
    "plt.ylabel('카페 수')\n",
    "plt.xticks(rotation=45)  \n",
    "plt.legend(title='브랜드') \n",
    "plt.show()"
   ]
  }
 ],
 "metadata": {
  "kernelspec": {
   "display_name": "eda_venv",
   "language": "python",
   "name": "python3"
  },
  "language_info": {
   "codemirror_mode": {
    "name": "ipython",
    "version": 3
   },
   "file_extension": ".py",
   "mimetype": "text/x-python",
   "name": "python",
   "nbconvert_exporter": "python",
   "pygments_lexer": "ipython3",
   "version": "3.10.12"
  }
 },
 "nbformat": 4,
 "nbformat_minor": 2
}
